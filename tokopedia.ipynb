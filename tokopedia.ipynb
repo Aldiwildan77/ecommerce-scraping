{
 "cells": [
  {
   "metadata": {},
   "cell_type": "markdown",
   "source": "## Tokopedia Scrapper",
   "id": "c3045804eac8e20e"
  },
  {
   "metadata": {},
   "cell_type": "markdown",
   "source": "### Dependencies",
   "id": "90f61b09fea517e2"
  },
  {
   "metadata": {
    "collapsed": true,
    "ExecuteTime": {
     "end_time": "2025-04-30T01:29:23.363847Z",
     "start_time": "2025-04-30T01:29:23.360265Z"
    }
   },
   "cell_type": "code",
   "source": [
    "from datetime import datetime\n",
    "\n",
    "from bs4 import BeautifulSoup\n",
    "\n",
    "from selenium import webdriver\n",
    "from selenium.webdriver.chrome.options import Options\n",
    "from selenium.webdriver.support.ui import WebDriverWait\n",
    "from selenium.webdriver.common.by import By\n",
    "from selenium.webdriver.support import expected_conditions as EC\n",
    "\n",
    "import time\n",
    "import csv"
   ],
   "id": "initial_id",
   "outputs": [],
   "execution_count": 50
  },
  {
   "metadata": {},
   "cell_type": "markdown",
   "source": "### Global Variables",
   "id": "fb034a8ec334a8bb"
  },
  {
   "metadata": {
    "ExecuteTime": {
     "end_time": "2025-04-30T01:29:23.380681Z",
     "start_time": "2025-04-30T01:29:23.378063Z"
    }
   },
   "cell_type": "code",
   "source": [
    "useragentarray = [\n",
    "    \"Mozilla/5.0 (Windows NT 10.0; Win64; x64) AppleWebKit/537.36 (KHTML, like Gecko) Chrome/108.0.0.0 Safari/537.36\",\n",
    "    \"Mozilla/5.0 (Windows NT 10.0; Win64; x64) AppleWebKit/537.36 (KHTML, like Gecko) Chrome/107.0.0.0 Safari/537.36\",\n",
    "]"
   ],
   "id": "4e9ace038d5805cf",
   "outputs": [],
   "execution_count": 51
  },
  {
   "metadata": {
    "ExecuteTime": {
     "end_time": "2025-04-30T01:30:09.532696Z",
     "start_time": "2025-04-30T01:29:23.386692Z"
    }
   },
   "cell_type": "code",
   "source": [
    "def get_url(search_term):\n",
    "    \"\"\"Generate an url from the search term\"\"\"\n",
    "    template = \"https://www.tokopedia.com/search?q={}\"\n",
    "    search_term = search_term.replace(' ', '+')\n",
    "\n",
    "    url = template.format(search_term)\n",
    "    url += '&page={}'\n",
    "\n",
    "    return url\n",
    "\n",
    "def scrape(keyword, start_page=1, end_page=2):\n",
    "    request_url = get_url(keyword)\n",
    "\n",
    "    options = Options()\n",
    "\n",
    "    # Set up Chrome profile (bypass login using saved session)\n",
    "    # chrome://version\n",
    "    options.add_argument(\"--user-data-dir=C:/Users/Administrator/AppData/Local/Google/Chrome/User Data\")\n",
    "    options.add_argument(\"--profile-directory=Default\")\n",
    "\n",
    "    options.add_argument('--remote-debugging-port=9222')\n",
    "    options.add_argument('--disable-dev-shm-usage')\n",
    "    options.add_argument('--disable-gpu')\n",
    "    options.add_argument('--no-sandbox')\n",
    "\n",
    "    # Other options\n",
    "    options.add_argument('--no-sandbox')\n",
    "    options.add_argument('--disable-dev-shm-usage')\n",
    "    options.add_argument('--disable-gpu')\n",
    "    options.add_argument('disable-notifications')\n",
    "    options.add_argument('--disable-infobars')\n",
    "    options.add_argument(\"--disable-blink-features=AutomationControlled\")\n",
    "    options.add_experimental_option(\"excludeSwitches\", [\"enable-automation\"])\n",
    "    options.add_experimental_option(\"useAutomationExtension\", False)\n",
    "    options.add_experimental_option(\"prefs\", {\"profile.default_content_setting_values.notifications\": 2})\n",
    "\n",
    "    # Connect to the target tab using the session ID\n",
    "    # debugger_address = target_tab['webSocketDebuggerUrl']\n",
    "    driver = webdriver.Chrome(options=options)\n",
    "    # driver.command_executor._url = debugger_address\n",
    "\n",
    "    rows = []\n",
    "    target_url = request_url\n",
    "    idx = 1\n",
    "\n",
    "    for page in range(start_page, end_page+1):\n",
    "\n",
    "        # driver preparation\n",
    "        driver.get(target_url.format(page))\n",
    "        driver.execute_script(\"Object.defineProperty(navigator, 'webdriver', {get: () => undefined})\")\n",
    "\n",
    "        for i in range(len(useragentarray)):\n",
    "            driver.execute_cdp_cmd(\n",
    "                \"Network.setUserAgentOverride\", {\"userAgent\": useragentarray[i]}\n",
    "            )\n",
    "            # print(driver.execute_script(\"return navigator.userAgent;\"))\n",
    "            # driver.get(\"https://httpbin.io/headers\")\n",
    "\n",
    "        # scroll\n",
    "        WebDriverWait(driver, 20).until(EC.presence_of_all_elements_located((By.CLASS_NAME, \"css-5wh65g\")))\n",
    "        driver.execute_script(\"\"\"\n",
    "            var scroll = document.body.scrollHeight / 3;\n",
    "            var i = 0;\n",
    "            function scrollit(i) {\n",
    "               window.scrollBy({top: scroll, left: 0, behavior: 'smooth'});\n",
    "               i++;\n",
    "               if (i < scroll) {\n",
    "                setTimeout(scrollit, 500, i);\n",
    "                }\n",
    "            }\n",
    "            scrollit(i);\n",
    "            \"\"\")\n",
    "\n",
    "        time.sleep(10)\n",
    "\n",
    "        html = driver.page_source\n",
    "        soup = BeautifulSoup(html, \"html.parser\")\n",
    "        # print(soup.prettify())\n",
    "\n",
    "        for item in soup.find_all('div', {'class': 'css-5wh65g'}):\n",
    "            link_tag = item.find('a', href=True)\n",
    "            link = link_tag['href'] if link_tag else None\n",
    "\n",
    "            name_tag = item.find('span', class_='_0T8-iGxMpV6NEsYEhwkqEg==')\n",
    "            name = name_tag.text if name_tag else None\n",
    "\n",
    "            price_tag = item.find('div', class_='_67d6E1xDKIzw+i2D2L0tjw==')\n",
    "            price = price_tag.text if price_tag else None\n",
    "\n",
    "            img_tag = item.find('img', alt='product-image')\n",
    "            asset_url = img_tag['src'] if img_tag else None\n",
    "\n",
    "            # # Debugging\n",
    "            # print(f\"Name: {name}\")\n",
    "            # print(f\"Link: {link}\")\n",
    "            # print(f\"Image URL: {asset_url}\")\n",
    "            # print(f\"Price: {price}\")\n",
    "            # print('---')\n",
    "\n",
    "            if not (name and price and asset_url and link):\n",
    "                continue\n",
    "\n",
    "            rows.append([idx, name, price, asset_url, link])\n",
    "            idx = idx+1\n",
    "\n",
    "    with open(f'tokopedia_items__{keyword}_{datetime.now().timestamp()}.csv', 'w', newline='', encoding='utf-8') as f:\n",
    "        writer = csv.writer(f)\n",
    "        writer.writerow(['no', 'name', 'price', 'asset_url', 'link'])\n",
    "        writer.writerows(rows)\n",
    "\n",
    "scrape('onitsuka', end_page=2)\n",
    "scrape('air jordan', end_page=3)\n"
   ],
   "id": "c6adfc8c9a3847e8",
   "outputs": [],
   "execution_count": 52
  }
 ],
 "metadata": {
  "kernelspec": {
   "display_name": "Python 3",
   "language": "python",
   "name": "python3"
  },
  "language_info": {
   "codemirror_mode": {
    "name": "ipython",
    "version": 2
   },
   "file_extension": ".py",
   "mimetype": "text/x-python",
   "name": "python",
   "nbconvert_exporter": "python",
   "pygments_lexer": "ipython2",
   "version": "2.7.6"
  }
 },
 "nbformat": 4,
 "nbformat_minor": 5
}
